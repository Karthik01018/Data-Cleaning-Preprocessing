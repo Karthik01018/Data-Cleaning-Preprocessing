{
  "nbformat": 4,
  "nbformat_minor": 0,
  "metadata": {
    "colab": {
      "provenance": [],
      "authorship_tag": "ABX9TyMmpZkyWmuTydf4IsJ35B6v",
      "include_colab_link": true
    },
    "kernelspec": {
      "name": "python3",
      "display_name": "Python 3"
    },
    "language_info": {
      "name": "python"
    }
  },
  "cells": [
    {
      "cell_type": "markdown",
      "metadata": {
        "id": "view-in-github",
        "colab_type": "text"
      },
      "source": [
        "<a href=\"https://colab.research.google.com/github/Karthik01018/Data-Cleaning-Preprocessing/blob/main/Clean_and_Prepare_raw_data_.ipynb\" target=\"_parent\"><img src=\"https://colab.research.google.com/assets/colab-badge.svg\" alt=\"Open In Colab\"/></a>"
      ]
    },
    {
      "cell_type": "code",
      "source": [
        "import pandas as pd"
      ],
      "metadata": {
        "id": "WUZPoHZrBASp"
      },
      "execution_count": 3,
      "outputs": []
    },
    {
      "cell_type": "markdown",
      "source": [
        "**Importing the file **"
      ],
      "metadata": {
        "id": "L8QjzSuAU_Ea"
      }
    },
    {
      "cell_type": "code",
      "execution_count": 5,
      "metadata": {
        "colab": {
          "base_uri": "https://localhost:8080/"
        },
        "id": "71QJRug_TbBQ",
        "outputId": "b55bd700-2110-4d4d-aab8-6754487f4175"
      },
      "outputs": [
        {
          "output_type": "stream",
          "name": "stdout",
          "text": [
            "   PassengerId  Survived  Pclass  \\\n",
            "0            1         0       3   \n",
            "1            2         1       1   \n",
            "2            3         1       3   \n",
            "3            4         1       1   \n",
            "4            5         0       3   \n",
            "\n",
            "                                                Name     Sex   Age  SibSp  \\\n",
            "0                            Braund, Mr. Owen Harris    male  22.0      1   \n",
            "1  Cumings, Mrs. John Bradley (Florence Briggs Th...  female  38.0      1   \n",
            "2                             Heikkinen, Miss. Laina  female  26.0      0   \n",
            "3       Futrelle, Mrs. Jacques Heath (Lily May Peel)  female  35.0      1   \n",
            "4                           Allen, Mr. William Henry    male  35.0      0   \n",
            "\n",
            "   Parch            Ticket     Fare Cabin Embarked  \n",
            "0      0         A/5 21171   7.2500   NaN        S  \n",
            "1      0          PC 17599  71.2833   C85        C  \n",
            "2      0  STON/O2. 3101282   7.9250   NaN        S  \n",
            "3      0            113803  53.1000  C123        S  \n",
            "4      0            373450   8.0500   NaN        S  \n"
          ]
        }
      ],
      "source": [
        "data = pd.read_csv('/content/Titanic-Dataset.csv')\n",
        "print(data.head())"
      ]
    },
    {
      "cell_type": "markdown",
      "source": [
        "**Nulls **"
      ],
      "metadata": {
        "id": "Jtr0g10GVInT"
      }
    },
    {
      "cell_type": "code",
      "source": [
        "print(data.isnull().sum())"
      ],
      "metadata": {
        "colab": {
          "base_uri": "https://localhost:8080/"
        },
        "id": "3MusWrabBPZl",
        "outputId": "05a94570-92de-449a-9901-8e8d91076a73"
      },
      "execution_count": 6,
      "outputs": [
        {
          "output_type": "stream",
          "name": "stdout",
          "text": [
            "PassengerId      0\n",
            "Survived         0\n",
            "Pclass           0\n",
            "Name             0\n",
            "Sex              0\n",
            "Age            177\n",
            "SibSp            0\n",
            "Parch            0\n",
            "Ticket           0\n",
            "Fare             0\n",
            "Cabin          687\n",
            "Embarked         2\n",
            "dtype: int64\n"
          ]
        }
      ]
    },
    {
      "cell_type": "markdown",
      "source": [
        "*Data Types*"
      ],
      "metadata": {
        "id": "0cr4B0u2BYV8"
      }
    },
    {
      "cell_type": "code",
      "source": [
        "print(data.dtypes)"
      ],
      "metadata": {
        "colab": {
          "base_uri": "https://localhost:8080/"
        },
        "id": "wIYNygQPBhxk",
        "outputId": "0685b620-409d-4ee5-a7ce-d19b0454cb3b"
      },
      "execution_count": 7,
      "outputs": [
        {
          "output_type": "stream",
          "name": "stdout",
          "text": [
            "PassengerId      int64\n",
            "Survived         int64\n",
            "Pclass           int64\n",
            "Name            object\n",
            "Sex             object\n",
            "Age            float64\n",
            "SibSp            int64\n",
            "Parch            int64\n",
            "Ticket          object\n",
            "Fare           float64\n",
            "Cabin           object\n",
            "Embarked        object\n",
            "dtype: object\n"
          ]
        }
      ]
    },
    {
      "cell_type": "markdown",
      "source": [
        "*Handeling the Data with Mean*"
      ],
      "metadata": {
        "id": "vEz0vXh0B8nZ"
      }
    },
    {
      "cell_type": "code",
      "source": [
        "data['Age'] = data['Age'].fillna(data['Age'].mean())"
      ],
      "metadata": {
        "id": "FVE4HJO5CATJ"
      },
      "execution_count": 8,
      "outputs": []
    },
    {
      "cell_type": "code",
      "source": [
        "data['Cabin'] = data['Cabin'].fillna(data['Cabin'].mode()[0])"
      ],
      "metadata": {
        "id": "xkX72Lt8CJ2s"
      },
      "execution_count": 10,
      "outputs": []
    },
    {
      "cell_type": "code",
      "source": [
        "data['Embarked'] = data['Embarked'].fillna(data['Embarked'].mode()[0])"
      ],
      "metadata": {
        "id": "w6cyqzeRCqvG"
      },
      "execution_count": 11,
      "outputs": []
    },
    {
      "cell_type": "markdown",
      "source": [
        "*Encoding*"
      ],
      "metadata": {
        "id": "A1l-Xx75DsQD"
      }
    },
    {
      "cell_type": "code",
      "source": [
        "import pandas as pd\n",
        "from sklearn.preprocessing import LabelEncoder\n",
        "\n",
        "# Fill missing values\n",
        "data['Age'].fillna(data['Age'].median(), inplace=True)\n",
        "data['Cabin'].fillna('Unknown', inplace=True)\n",
        "data['Embarked'].fillna(data['Embarked'].mode()[0], inplace=True)\n",
        "\n",
        "# Simplify Cabin by keeping just the deck letter (e.g., C85 -> C)\n",
        "data['Cabin'] = data['Cabin'].apply(lambda x: x[0] if x != 'Unknown' else 'U')\n",
        "\n",
        "# Label Encoding for 'Sex' and 'Cabin'\n",
        "le = LabelEncoder()\n",
        "data['Sex'] = le.fit_transform(data['Sex'])\n",
        "data['Cabin'] = le.fit_transform(data['Cabin'])\n",
        "\n",
        "# One-hot encode 'Embarked'\n",
        "data = pd.get_dummies(data, columns=['Embarked'], drop_first=True)\n",
        "\n",
        "# Optional: Drop text-heavy columns that aren't useful as-is\n",
        "data.drop(['Name', 'Ticket'], axis=1, inplace=True)"
      ],
      "metadata": {
        "colab": {
          "base_uri": "https://localhost:8080/"
        },
        "id": "JM7S2W_mDr4H",
        "outputId": "5a5594d8-9d97-4de7-e51f-f47d8b5e5694"
      },
      "execution_count": 12,
      "outputs": [
        {
          "output_type": "stream",
          "name": "stderr",
          "text": [
            "<ipython-input-12-9bb35fc36e35>:5: FutureWarning: A value is trying to be set on a copy of a DataFrame or Series through chained assignment using an inplace method.\n",
            "The behavior will change in pandas 3.0. This inplace method will never work because the intermediate object on which we are setting values always behaves as a copy.\n",
            "\n",
            "For example, when doing 'df[col].method(value, inplace=True)', try using 'df.method({col: value}, inplace=True)' or df[col] = df[col].method(value) instead, to perform the operation inplace on the original object.\n",
            "\n",
            "\n",
            "  data['Age'].fillna(data['Age'].median(), inplace=True)\n",
            "<ipython-input-12-9bb35fc36e35>:6: FutureWarning: A value is trying to be set on a copy of a DataFrame or Series through chained assignment using an inplace method.\n",
            "The behavior will change in pandas 3.0. This inplace method will never work because the intermediate object on which we are setting values always behaves as a copy.\n",
            "\n",
            "For example, when doing 'df[col].method(value, inplace=True)', try using 'df.method({col: value}, inplace=True)' or df[col] = df[col].method(value) instead, to perform the operation inplace on the original object.\n",
            "\n",
            "\n",
            "  data['Cabin'].fillna('Unknown', inplace=True)\n",
            "<ipython-input-12-9bb35fc36e35>:7: FutureWarning: A value is trying to be set on a copy of a DataFrame or Series through chained assignment using an inplace method.\n",
            "The behavior will change in pandas 3.0. This inplace method will never work because the intermediate object on which we are setting values always behaves as a copy.\n",
            "\n",
            "For example, when doing 'df[col].method(value, inplace=True)', try using 'df.method({col: value}, inplace=True)' or df[col] = df[col].method(value) instead, to perform the operation inplace on the original object.\n",
            "\n",
            "\n",
            "  data['Embarked'].fillna(data['Embarked'].mode()[0], inplace=True)\n"
          ]
        }
      ]
    },
    {
      "cell_type": "code",
      "source": [
        "print(data.head())\n",
        "print(data.dtypes)"
      ],
      "metadata": {
        "colab": {
          "base_uri": "https://localhost:8080/"
        },
        "id": "mGjE0iwXD0aK",
        "outputId": "1808cc1a-ebcc-4beb-cfdc-05e1c715a102"
      },
      "execution_count": 13,
      "outputs": [
        {
          "output_type": "stream",
          "name": "stdout",
          "text": [
            "   PassengerId  Survived  Pclass  Sex   Age  SibSp  Parch     Fare  Cabin  \\\n",
            "0            1         0       3    1  22.0      1      0   7.2500      1   \n",
            "1            2         1       1    0  38.0      1      0  71.2833      2   \n",
            "2            3         1       3    0  26.0      0      0   7.9250      1   \n",
            "3            4         1       1    0  35.0      1      0  53.1000      2   \n",
            "4            5         0       3    1  35.0      0      0   8.0500      1   \n",
            "\n",
            "   Embarked_Q  Embarked_S  \n",
            "0       False        True  \n",
            "1       False       False  \n",
            "2       False        True  \n",
            "3       False        True  \n",
            "4       False        True  \n",
            "PassengerId      int64\n",
            "Survived         int64\n",
            "Pclass           int64\n",
            "Sex              int64\n",
            "Age            float64\n",
            "SibSp            int64\n",
            "Parch            int64\n",
            "Fare           float64\n",
            "Cabin            int64\n",
            "Embarked_Q        bool\n",
            "Embarked_S        bool\n",
            "dtype: object\n"
          ]
        }
      ]
    },
    {
      "cell_type": "markdown",
      "source": [
        "*Normalize/standardize the numerical features*"
      ],
      "metadata": {
        "id": "-jE5pty6EAoN"
      }
    },
    {
      "cell_type": "code",
      "source": [
        " num_cols = data.select_dtypes(include=['int64', 'float64']).columns.tolist()"
      ],
      "metadata": {
        "id": "mwLGGP_4EJYG"
      },
      "execution_count": 14,
      "outputs": []
    },
    {
      "cell_type": "code",
      "source": [
        "from sklearn.preprocessing import StandardScaler\n",
        "\n",
        "scaler = StandardScaler()\n",
        "data[num_cols] = scaler.fit_transform(data[num_cols])"
      ],
      "metadata": {
        "id": "0ekTGu1zGTny"
      },
      "execution_count": 15,
      "outputs": []
    },
    {
      "cell_type": "code",
      "source": [
        "from sklearn.preprocessing import MinMaxScaler\n",
        "\n",
        "scaler = MinMaxScaler()\n",
        "data[num_cols] = scaler.fit_transform(data[num_cols])"
      ],
      "metadata": {
        "id": "nOQFL5aHGZLO"
      },
      "execution_count": 16,
      "outputs": []
    },
    {
      "cell_type": "markdown",
      "source": [
        "*Previewing the Data*"
      ],
      "metadata": {
        "id": "IFOnl1dNGhBW"
      }
    },
    {
      "cell_type": "code",
      "source": [
        "print(data[num_cols].describe())"
      ],
      "metadata": {
        "colab": {
          "base_uri": "https://localhost:8080/"
        },
        "id": "eTBX2LXPGm9U",
        "outputId": "66c6c839-d01f-4288-a00a-c3fc88d1314d"
      },
      "execution_count": 17,
      "outputs": [
        {
          "output_type": "stream",
          "name": "stdout",
          "text": [
            "       PassengerId    Survived      Pclass         Sex         Age  \\\n",
            "count   891.000000  891.000000  891.000000  891.000000  891.000000   \n",
            "mean      0.500000    0.383838    0.654321    0.647587    0.367921   \n",
            "std       0.289162    0.486592    0.418036    0.477990    0.163383   \n",
            "min       0.000000    0.000000    0.000000    0.000000    0.000000   \n",
            "25%       0.250000    0.000000    0.500000    0.000000    0.271174   \n",
            "50%       0.500000    0.000000    1.000000    1.000000    0.367921   \n",
            "75%       0.750000    1.000000    1.000000    1.000000    0.434531   \n",
            "max       1.000000    1.000000    1.000000    1.000000    1.000000   \n",
            "\n",
            "            SibSp       Parch        Fare       Cabin  \n",
            "count  891.000000  891.000000  891.000000  891.000000  \n",
            "mean     0.065376    0.063599    0.062858    0.188392  \n",
            "std      0.137843    0.134343    0.096995    0.130920  \n",
            "min      0.000000    0.000000    0.000000    0.000000  \n",
            "25%      0.000000    0.000000    0.015440    0.142857  \n",
            "50%      0.000000    0.000000    0.028213    0.142857  \n",
            "75%      0.125000    0.000000    0.060508    0.142857  \n",
            "max      1.000000    1.000000    1.000000    1.000000  \n"
          ]
        }
      ]
    },
    {
      "cell_type": "markdown",
      "source": [
        "*Visualize outliers using boxplots and remove them.*"
      ],
      "metadata": {
        "id": "sNvcEfADGx6U"
      }
    },
    {
      "cell_type": "code",
      "source": [
        "import matplotlib.pyplot as plt\n",
        "import seaborn as sns\n",
        "import math\n",
        "num_cols = data.select_dtypes(include=['float64', 'int64']).columns.tolist()\n",
        "n_cols = 3\n",
        "n_rows = math.ceil(len(num_cols) / n_cols)\n"
      ],
      "metadata": {
        "id": "Om4vJLeXHEs6"
      },
      "execution_count": 19,
      "outputs": []
    },
    {
      "cell_type": "code",
      "source": [
        "plt.figure(figsize=(n_cols * 5, n_rows * 4))\n",
        "for i, col in enumerate(num_cols):\n",
        "    plt.subplot(n_rows, n_cols, i + 1)\n",
        "    sns.boxplot(x=data[col])\n",
        "    plt.title(f'Boxplot of {col}')\n",
        "plt.tight_layout()\n",
        "plt.show()"
      ],
      "metadata": {
        "colab": {
          "base_uri": "https://localhost:8080/",
          "height": 701
        },
        "id": "TkWQd1X2HIFp",
        "outputId": "5b51d457-e4cd-4e18-8803-9fa3b58c9437"
      },
      "execution_count": 20,
      "outputs": [
        {
          "output_type": "display_data",
          "data": {
            "text/plain": [
              "<Figure size 1500x1200 with 9 Axes>"
            ],
            "image/png": "[encoded data removed]"
          },
          "metadata": {}
        }
      ]
    }
  ]
}